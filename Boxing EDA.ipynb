{
 "cells": [
  {
   "cell_type": "markdown",
   "metadata": {},
   "source": [
    "#### About the project\n",
    "Boxing with Analytics!\n",
    "\n",
    "This is an exploratory data analysis project on boxing statistics data.\n",
    "\n",
    "<img src=\"//i.imgur.com/UH5Yrspg.jpg\" width=\"240\" height=\"360\" align = \"left\"/>"
   ]
  },
  {
   "cell_type": "markdown",
   "metadata": {},
   "source": [
    "#### Contents"
   ]
  },
  {
   "cell_type": "markdown",
   "metadata": {},
   "source": [
    "#### Summary\n",
    "1. Briefly describe the data\n",
    "2. Challenges in the data\n",
    "3. Actions taken to address those challenges, and new features created\n",
    "4. Key patterns identified from the processed data"
   ]
  },
  {
   "cell_type": "markdown",
   "metadata": {},
   "source": [
    "#### Data description\n",
    "\n",
    "- The data contains anonymized statistics of professional boxing contests played between different pairs of boxers.\n",
    "- From secondary research (googling to find dataset on kaggle), the data appears to be collected by scraping the site, boxrec.com. The exact method and time of scraping is not known.\n",
    "- BoxRec is recognized as an official record keeper for the Association of Boxing Commissions.\n",
    "- Each record in the dataset corresponds to a separate contest\n",
    "- As the same type of information is attempted to be captured for both the boxers, variables are labelled with the suffixes '\\_A' or '\\_B'\n",
    "- The information contains following information about the boxers.\n",
    " - Physical information at the time of contest - age, height, weight and stance\n",
    " - Professional record at the time of contest - no. of wins, a separate count of knockout wins, losses and draws\n",
    " - The result of the contest - whether it was a win for A, win for B, or a draw\n",
    " - The decision that led to the result - the possible types are listed in the appendix\n",
    "- Boxer or contest identifier information in terms of names, rankings, category, date and venue of contest are not present. Genders are also not present."
   ]
  },
  {
   "cell_type": "code",
   "execution_count": 1,
   "metadata": {},
   "outputs": [],
   "source": [
    "import sys\n",
    "import pandas as pd\n",
    "import pandas_profiling                             # Get a quick overview for all the variables using pandas_profiling\n",
    "import seaborn as sns\n",
    "import matplotlib.pyplot as plt\n",
    "%matplotlib inline\n",
    "import warnings                                     # Ignore warning related to pandas_profiling\n",
    "warnings.filterwarnings('ignore')\n",
    "pd.set_option('display.max_columns', 100)           # Display dataframe in outputs with a scroll bar as there are 26 columns"
   ]
  },
  {
   "cell_type": "markdown",
   "metadata": {},
   "source": [
    "#### In case of error\n",
    "- The below line of code needs to be run in a python cell before running 'import pandas_profiling' statement if a ModuleNotFoundError is returned for the statement\n",
    "- !pip install pandas_profiling"
   ]
  },
  {
   "cell_type": "markdown",
   "metadata": {},
   "source": [
    "#### Reading data\n",
    "Read data from INSAID github repository to a dataframe with the name as 'bo'"
   ]
  },
  {
   "cell_type": "code",
   "execution_count": 2,
   "metadata": {},
   "outputs": [],
   "source": [
    "bo = pd.read_csv(\"https://github.com/insaid2018/Term-1/blob/master/Data/Projects/boxing_matches.csv?raw=true\")"
   ]
  },
  {
   "cell_type": "markdown",
   "metadata": {},
   "source": [
    "#### Profiling the raw data"
   ]
  },
  {
   "cell_type": "code",
   "execution_count": null,
   "metadata": {},
   "outputs": [],
   "source": [
    "# The below line of code internally calculates descriptive statistics\n",
    "# A variable is rejected from the report if it has a correlation greater than 0.9 with an alphabetically preceding variable\n",
    "profile = pandas_profiling.ProfileReport(bo)\n",
    "\n",
    "# Output saved in a file in the folder having this jupyter notebook\n",
    "profile.to_file(outputfile=\"initial_profiling.html\")\n",
    "\n",
    "# Getting the variable rejected due to high correlation in a list\n",
    "rejected_variables = profile.get_rejected_variables()\n",
    "\n",
    "# Passing the above list to the correlation_overrides parameter to get a version of the report with all variables described\n",
    "profile = pandas_profiling.ProfileReport(bo,correlation_overrides=rejected_variables)\n",
    "\n",
    "# Output saved in a new file\n",
    "profile.to_file(outputfile=\"initial_profiling_inc_rejected.html\")"
   ]
  },
  {
   "cell_type": "markdown",
   "metadata": {},
   "source": [
    "#### Observations from profiling"
   ]
  },
  {
   "cell_type": "markdown",
   "metadata": {},
   "source": [
    "##### Summary"
   ]
  },
  {
   "cell_type": "markdown",
   "metadata": {},
   "source": [
    "| No. of observations | Total no. of variables | No. of numeric variables | No. of categorical variables |\n",
    "| --- | --- | --- | --- |\n",
    "| 387427 | 26 | 22 | 4 |\n"
   ]
  },
  {
   "cell_type": "markdown",
   "metadata": {},
   "source": [
    "##### Description of variables"
   ]
  },
  {
   "cell_type": "markdown",
   "metadata": {},
   "source": [
    "| Variable | age_A | age_B | height_A | height_B | reach_A | reach_B | stance_A | stance_B | weight_A | weight_B | won_A | won_B | lost_A | lost_B | drawn_A | drawn_B | kos_A | kos_B | result | decision | judge1_A | judge1_B | judge2_A | judge2_A | judge3_A | judge3_B |\n",
    "| --- | --- | --- | --- | --- | --- | --- | --- | --- | --- | --- | --- | --- | --- | --- | --- | --- | --- | --- | --- | --- | --- | --- | --- | --- | --- | --- |\n",
    "| Description | Age of boxer A | Age of boxer B | Height of boxer A | Height of boxer B | Reach of boxer A | Reach of boxer B | Stance of boxer A | Stance of boxer B | Weight of boxer A | Weight of boxer B | No. of contests won by boxer A | No. of contests won by boxer B | No. of contests lost by boxer A | No. of contests lost by boxer B | No. of contests drawn by boxer A | No. of contests drawn by boxer B | No. of contests won via knock out by boxer A | No. of contests won via knock out by boxer B | Whether it was a win for A, win for B, or a draw  | The decision that led to the result | Score for boxer A decided by judge 1 | Score for boxer B decided by judge 1 | Score for boxer A decided by judge 2 | Score for boxer B decided by judge 2 | Score for boxer A decided by judge 3 | Score for boxer B decided by judge 3 |"
   ]
  },
  {
   "cell_type": "markdown",
   "metadata": {},
   "source": [
    "The reach of a person is the length from the fingertips on one arm to the other when held opposite to each other and perpendicular to the standing body. It is also called arm span."
   ]
  },
  {
   "cell_type": "markdown",
   "metadata": {},
   "source": [
    "<img src=\"https://upload.wikimedia.org/wikipedia/commons/0/0e/Arm_span_-_01.png\" width=\"200\" height=\"300\" />"
   ]
  },
  {
   "cell_type": "markdown",
   "metadata": {},
   "source": [
    "Image source: Martin Hawlisch (<a href=\"https://commons.wikimedia.org/wiki/User:LosHawlos\">User:LosHawlos</a>), <a href=\"https://commons.wikimedia.org/wiki/File:Arm_span_-_01.png\">Arm span - 01</a>, <a href=\"https://creativecommons.org/licenses/by-sa/3.0/legalcode\" rel=\"license\">CC BY-SA 3.0</a>"
   ]
  },
  {
   "cell_type": "markdown",
   "metadata": {},
   "source": [
    "Stance can be orthodox (favouring the right side, typically used by right-handed boxers) or southpaw (the mirror image, favouring the left side, typically used by left-handed boxers)"
   ]
  },
  {
   "cell_type": "markdown",
   "metadata": {},
   "source": [
    "Information about units used for measuring the numerical variables is not available with the data. In some cases, such as age or wins, the unit is obvious by definition. in other cases, such as height and weight, it will be inferred by looking at the available values."
   ]
  },
  {
   "cell_type": "markdown",
   "metadata": {},
   "source": [
    "##### Details by variable"
   ]
  },
  {
   "cell_type": "markdown",
   "metadata": {},
   "source": [
    "| Variable | age_A | age_B | height_A | height_B | reach_A | reach_B | stance_A | stance_B | weight_A | weight_B | won_A | won_B | lost_A | lost_B | drawn_A | drawn_B | kos_A | kos_B | result | decision | judge1_A | judge1_B | judge2_A | judge2_A | judge3_A | judge3_B |\n",
    "| --- | --- | --- | --- | --- | --- | --- | --- | --- | --- | --- | --- | --- | --- | --- | --- | --- | --- | --- | --- | --- | --- | --- | --- | --- | --- | --- |\n",
    "| Type | Numeric | Numeric | Numeric | Numeric | Numeric | Numeric | Categorical | Categorical | Numeric | Numeric | Numeric | Numeric | Numeric | Numeric | Numeric | Numeric | Numeric | Numeric | Categorical | Categorical | Numeric | Numeric | Numeric | Numeric | Numeric | Numeric |\n",
    "| % missing values | 8.9% | 33.4% | 25.7% | 65.2% | 71% | 90.2% | 40.4% | 40.4% | 65.0% | 66.4% | - | - | - | - | - | - | - | - | - | - | 86.5% | 86.6% | 81.8% | 81.9% | 84.2% | 84.2% |\n",
    "| No. of unique values | 60 | 83 | 74 | 74 | 86 | 99 | 2 | 2 | 253 | 280 | 267 | 212 | 116 | 308 | 73 | 73 | 132 | 117 | 3 | 10 | 166 | 169 | 176 | 186 | 174 | 186 |\n",
    "|Possible values | - | - | - | - | - | - | orthodox, southpaw | orthodox, southpaw | - | - | - | - | - | - | - | - | - | - | win_A, win_B, draw | PTS,NWS,<br>UD,SD,MD,<br>KO,TKO,DQ,<br>RTD,TD | - | - | - | - | - |\n",
    "| Min | -74 | -74 | 2 | 15 | 5 | 1 | - | - | 10 | 2 | 0 | 0 | 0 | 0 | 0 | 0 | 0 | 0 | - | - | 0 | 1 | 0 | 0 | 0 | 1 |\n",
    "| Max | 1818 | 2016 | 255 | 255 | 456 | 456 | - | - | 363 | 450 | 332 | 251 | 208 | 511 | 77 | 76 | 131 | 128 | - | - | 540 | 291 | 299 | 294 | 300 | 295 |\n",
    "| Range | 1892 | 2090 | 253 | 240 | 451 | 455 | - | - | 353 | 448 | 332 | 251 | 208 | 511 | 77 | 76 | 131 | 128 | - | - | 540 | 290 | 299 | 294 | 300 | 294 |\n",
    "| IQR | 6 | 7 | 12 | 12 | 15 | 14 | - | - | 35 | 34 | 26 | 19 | 7 | 10 | 3 | 3 | 12 | 9 | - | - | 41 | 42 | 41 | 39 | 41 | 42 |\n",
    "| Median | 24 | 26 | 173 | 173 | 178 | 178 | - | - | 140 | 140 | 14 | 8 | 2 | 5 | 1 | 1 | 6 | 3 | - | - | 59 | 54 | 58 | 54 | 58 | 54 |\n",
    "| Mean | 24.4 | 26.6 | 172.8 | 172.9 | 178.9 | 179 | - | - | 146.3 | 147.1 | 23.1 | 15.2 | 5.5 | 8.6 | 2.8 | 2.6 | 10.3 | 6.2 | - | - | 62.8 | 59.5 | 59.6 | 56.6 | 60.8 | 58.0 |\n",
    "| SD | 6.5 | 11.8 | 9.1 | 9.4 | 12.0 | 14.9 | - | - | 30.2 | 30.6 | 27.6 | 20.0 | 8.8 | 12.8 | 5.6 | 5.0 | 12.4 | 8.8 | - | - | 30.3 | 29.3 | 31.0 | 30.3 | 31.9 | 31.2 |\n",
    "| CV % | 26.7% | 44.5% | 5.2% | 5.5% | 6.7% | 8.3% | - | - | 20.7% | 20.8% | 120.0% | 132.0% | 160.0% | 148.5% | 197.6% | 190.7% | 119.9% | 140.4% | - | - | 48.3% | 49.2% | 52.1% | 53.5% | 52.5% | 53.7% |\n",
    "| MAD | 3.9 | 4.2 | 7.1 | 7.2 | 8.9 | 9.5 | - | - | 22.9 | 23.0 | 19.5 | 14.0 | 5.8 | 7.6 | 3.4 | 3.0 | 8.7 | 6.1 | - | - | 25.1 | 24.3 | 24.7 | 24.1 | 26.0 | 25.3 |\n",
    "| Kurtosis | 32350 | 19694 | 12.9 | 30.1 | 33.9 | 79.0 | - | - | 2.4 | 3.1 | 8.4 | 9.2 | 15.9 | 185.8 | 19.2 | 25.0 | 10.5 | 13.6 | - | - | 1.6 | -0.1 | 0.5 | 0.6 | 0.2 | 0.2 |\n",
    "| Skewness | 118.1 | 124.9 | -0.4 |\t-1.5 | 1.0 | 2.0 | - | - | 1.4 | 1.4 | 2.4 | 2.5 | 3.2 | 8.5 | 3.7 | 4.1 | 2.6 | 2.8 | - | - | 0.6 | 0.5 | 0.6 | 0.6 | 0.5 | 0.5 |\n",
    "| Correlated variable | - | - | - | - | - | - | - | - | - | weight_A | - | - | - | - | - | - | - | - | - | - | - | judge1_A | judge1_A | judge1_A | judge1_A | judge1_A |"
   ]
  },
  {
   "cell_type": "markdown",
   "metadata": {},
   "source": [
    "##### Observations"
   ]
  },
  {
   "cell_type": "markdown",
   "metadata": {},
   "source": [
    "Variable units\n",
    " - By looking at the mean and median data\n",
    "   - the unit for both height and reach are identified as cm\n",
    "   - the unit for weight appears to be pounds\n",
    "<br><br>\n",
    "\n",
    "Missing values\n",
    "- There are a large number of missing values for many variables, except the variables won, lost, draw, result and decision.\n",
    "- This is most likely due to lack of detailed recording in bouts conducted in older years.\n",
    "- Missing values for physical characteristics such as age, height and reach are higher for boxers categorised as boxer B.\n",
    "- A possible reason is that data on physical characteristics was captured largely for a single boxer, who was categorised Boxer A (possibly due to being more well-known in the boxing community), and this partial data was recorded along with both boxer's historical results and the bout result.\n",
    "- The judges' scores variables are most affected by missing values. However, bout results and decisions are still present in all cases. This implies that detailed scoring was either not done or not recorded for those bouts.\n",
    "<br><br>\n",
    "\n",
    "Outliers\n",
    "- There are outliers present in many variables as shown by the minimum and maximum values.\n",
    "- These are handled through various methods mentioned in the 'Actions' section.\n",
    "<br><br>\n",
    "\n",
    "Creating new variables (feature engineering)\n",
    " - Numerical variables by assigning numbers to categorical variables. This is required in order to perform computations on the variables.\n",
    " - A variable that estimates number of rounds played from the judges' scores\n",
    " - A variable that classifies boxers into professional weight categories\n",
    " - A variable that records whether the bout went the distance (can be done using decisions)\n",
    " - A variable that estimates planned number of rounds from weight categories\n",
    " - A variable for KO win % (it seems to be a safe assumption that win count comprises knock out wins count. Therefore the ratio can be calculated)\n",
    " - historical win % calculated as wins / (wins + losses + draws)\n",
    " - historical win % calculated as (2\\*wins + draws) / (2\\*wins + losses + draws)"
   ]
  },
  {
   "cell_type": "markdown",
   "metadata": {},
   "source": [
    "#### Actions on existing variables"
   ]
  },
  {
   "cell_type": "markdown",
   "metadata": {},
   "source": [
    "Won, lost, drawn, kos, result and decision are not considered for any action as there are no missing values or outliers.\n",
    "<br><br>\n",
    "Judges' scores are also not considered as they are missing for a majority of the data. It is planned that judges' data will be analysed as a separate dataset after dropping all records for which judge scores are not present."
   ]
  },
  {
   "cell_type": "markdown",
   "metadata": {},
   "source": [
    "| Column | Interpretation of missing values | Action on missing values | Outliers | Action on outliers |\n",
    "| --- | --- | --- | --- | --- |\n",
    "| age_A | Data possibly not captured for less-known boxers or boxers who participated in older bouts | Set equal to mean value as per weight category | Some negative values and some very large positive values | Set minimum to 15 and maximum to 61 as no boxers competed outside this age range (Appendix) |\n",
    "| age_B | Data possibly not captured for less-known boxers or boxers who participated in older bouts | Set equal to mean value as per weight category | Some negative values and some very large positive values | Set minimum to 15 and maximum to 61 as no boxers competed outside this age range (Appendix) |\n",
    "| height_A | Data possibly not captured for less-known boxers or boxers who participated in older bouts | Set equal to mean value as per weight category | Some very small values | Set minimum to  as no boxer's height outside this age range (Appendix) |\n",
    "| height_B | Data possibly not captured for less-known boxers or boxers who participated in older bouts | Set equal to mean value as per weight category | Some very small values | Set minimum to  as no boxer's height outside this age range (Appendix) |\n",
    "| reach_A | Reach data is even less captured than height | As a lot of data is missing, setting all equal to a constant mean / median will not add value. Instead, it can be set equal to height of the boxer as reach is typically similar to height | Some very small values as well as some very large values (reach is typically near the height of a person) | Set minimum to  and maximum to  as no boxer's reach outside this age range (Appendix) |\n",
    "| reach_B | Reach data is even less captured than height | As a lot of data is missing, setting all equal to a constant mean / median will not add value. Instead, it can be set equal to height of the boxer as reach is typically similar to height | Some very small values as well as some very large values (reach is typically near the height of a person) | Set minimum to  and maximum to  as no boxer's reach outside this age range (Appendix) |\n",
    "| stance_A | Data possibly not captured for less-known boxers or boxers who participated in older bouts | The mode (orthodox) can be set as the stance for missing values as it is almost 5 times as common as the other stance (southpaw) | - | - |\n",
    "| stance_B | Data possibly not captured for less-known boxers or boxers who participated in older bouts | The mode (orthodox) can be set as the stance for missing values as it is almost 5 times as common as the other stance (southpaw) | - | - |\n",
    "| weight_A | Data possibly not captured for less-known boxers or boxers who participated in older bouts | As boxers have to compete against similar weight range boxers, weight_B can be used if available, else mean(BMI) \\* height_A can be used | Some very small values and some large values | Set minimum to 102 (equal to 46 kg considered as Light minimumweight or Atomweight), larger values are not changed as they are still possible |\n",
    "| weight_B | Data possibly not captured for less-known boxers or boxers who participated in older bouts | As boxers have to compete against similar weight range boxers, weight_A can be used if available, else mean(BMI) \\* height_B can be used | Some very small values and some large values | Set minimum to 102 (equal to 46 kg considered as Light minimumweight or Atomweight), larger values are not changed as they are still possible |"
   ]
  },
  {
   "cell_type": "markdown",
   "metadata": {},
   "source": [
    "#### Actions to create new variables (feature engineering)"
   ]
  },
  {
   "cell_type": "markdown",
   "metadata": {},
   "source": [
    "#### Correlation between valid judge scores"
   ]
  },
  {
   "cell_type": "code",
   "execution_count": null,
   "metadata": {},
   "outputs": [],
   "source": [
    "bo_scores = bo.dropna(subset=['judge1_A', 'judge1_B', 'judge2_A', 'judge2_B', 'judge3_A', 'judge3_B'])"
   ]
  },
  {
   "cell_type": "markdown",
   "metadata": {},
   "source": [
    "#### Data that would add more value to the analysis if available\n",
    " - Lot of data missing probably due to lack of recording in earlier years\n",
    " - Date of bouts, how have results changed\n",
    " - Data on category and planned rounds of the bout\n",
    " - Data on number of losses by knockouts - how does losing by a larger number of knockouts correlate with probability of losing by knockout again"
   ]
  },
  {
   "cell_type": "markdown",
   "metadata": {},
   "source": [
    "#### Appendix: Rules\n",
    "For more about the rules:\n",
    "http://boxrec.com/media/index.php/Rules_of_Boxing"
   ]
  },
  {
   "cell_type": "markdown",
   "metadata": {},
   "source": [
    "#### Appendix: List of possible decisions\n",
    "Source 1: \n",
    "http://boxrec.com/media/index.php/Decision, \n",
    "Source 2: \n",
    "http://boxrec.com/media/index.php/BoxRec_Fight_Record_Codes, \n",
    "<br>Source 3: \n",
    "http://boxrec.com/media/index.php/Technical_decision\n",
    "Source 4: \n",
    "http://boxrec.com/media/index.php/Technical_draw"
   ]
  },
  {
   "cell_type": "markdown",
   "metadata": {},
   "source": [
    "| Abbreviation | Decision | Explanation |\n",
    "| --- | --- | --- |\n",
    "| PTS | Points Decision | A single scoring referee or judge has scored or the actual scores are unknown\n",
    "| NWS | Newspaper Decision | During the early 20th Century, a \"newspaper decision\" might be made after a no decision bout had ended\n",
    "| UD | Unanimous Decision |  All three judges have scored in agreement\n",
    "| SD | Split Decision | Two judges have scored in favour of one boxer and the other judge has scored in favour of the other\n",
    "| MD | Majority Decision | Two judges have scored in favour of one boxer and the other judge has scored in favour of a draw\n",
    "| KO | Knock Out | A boxer is knocked down and the referee has counted to 10 before he can rise\n",
    "| TKO | Technical Knock Out | The referee has stopped the fight due to a boxer being in no fit condition to continue\n",
    "| DQ | Disqualification | A boxer is disqualified by the referee and loses the bout when he repeatedly or severely fouls or infringes the rules\n",
    "| RTD | Retirement | A boxer has retired between rounds\n",
    "| TD | Technical Decision / Technical Draw | Technical decisions and draws occur when a fighter is unable to continue due to an accidental injury (usually cuts) or<br>foul. In such a case, the official(s) adjudicate a win or a draw (see below)."
   ]
  },
  {
   "cell_type": "markdown",
   "metadata": {},
   "source": [
    "###### Technical Decision vs Technical Draw\n",
    "<br>\n",
    "If an unintentional foul causes a scheduled six-round-plus bout to be stopped immediately, the bout is ruled a \"no decision\" or a \"technical draw\" - if four rounds have not been completed. The same applies for a bout that was scheduled for four rounds if three rounds have not been completed.\n",
    "<br><br>\n",
    "If four rounds have been completed, the judges' scorecards are tallied and the boxer who was ahead on points is awarded a technical decision (a win). Technical draws occur again when the bout goes to the scorecards, and the official decision of the officials is a draw."
   ]
  },
  {
   "cell_type": "markdown",
   "metadata": {},
   "source": [
    "#### Appendix: Scoring by judges\n",
    "\n",
    "Source 1: \n",
    "http://boxrec.com/media/index.php/How_to_Score_a_Fight, \n",
    "Source 2: \n",
    "https://en.wikipedia.org/wiki/The_distance_(boxing)\n",
    "\n",
    "There are typically three judges for each fight, who calculate points as follows:\n",
    "\n",
    "If a judge deems that fighter A has out-boxed fighter B in a round, then s/he will score the round 10 points for fighter A, and 9 points for fighter B. If fighter B is knocked down by fighter A, and receives a standing count, then the round is scored 10 points to fighter A and 8 points to fighter B. If the judge decides that neither fighter won a round, then he will score it 10 points to each fighter.\n",
    "\n",
    "If a fighter is penalized by the referee (such as for multiple low blows), then the referee will turn to each ring-side judge individually and instruct him to deduct a point for that fighter from their score card for that round.\n",
    "\n",
    "The referee collects the judges' scorecards after every round and delivers them to the ring-side commissioner.\n",
    "\n",
    "Title contests comprised of 15 rounds till the 1980s but today usually means 12 rounds, though there have been some ten-round championship contests. Non-title contests can be of any length under 12 rounds but are typically 10 rounds or fewer. Women's championship boxing is ten rounds or fewer, each round lasting 2 minutes instead of 3 for men.\n",
    "\n",
    "From the above, it can be calculated that the maximum number of points a boxer can get from a single judge will be 150, 120, 100 or fewer (in case of lesser number of rounds played as per initial agreement, or KO / TKO / DQ / RTD before al rounds are finished).\n",
    "\n",
    "At the end of the fight, the points are totaled to arrive at a decision (win, loss, or draw).\n",
    "\n",
    "- If all judges score for boxer A then it is a win by unanimous decision (UD) for boxer A\n",
    "- If two judges score for boxer A and one judge scores a draw then it is a majority decision (MD) win for boxer A\n",
    "- If two judges score for boxer A and one judge scores for boxer B then it is a split decision (SD) win for boxer A\n",
    "- If all judges score a draw then it is a draw by unanimous decision (D-UD)\n",
    "- If two judges score a draw and one judge scores for either boxer then it is a majority draw (D-MD)"
   ]
  },
  {
   "cell_type": "markdown",
   "metadata": {},
   "source": [
    "#### To do"
   ]
  },
  {
   "cell_type": "markdown",
   "metadata": {},
   "source": [
    "EDA project (prepare a draft by 7 pm, so that a demo audio can be shot)\n",
    "<br><br> \n",
    "\n",
    "Pattern identification\n",
    "- how do boxer a level of detail correspond to boxer b, how is it connected to boxer a winning,  what could be inferred (that data was available only for boxer a (possibly due to being more famous) and this partial data was recorded\n",
    "- height / weight correlation\n",
    "- result vs historical win % - which of the 2 created win features is more correlated\n",
    "- result and historical win % vs\n",
    "   - age  difference\n",
    "   - weight difference\n",
    "   - height difference\n",
    "   - reach difference\n",
    "   - reach difference and height difference\n",
    "   - BMI\n",
    "   - stance combinations (o-o, o-s / s-o, s-s)\n",
    "   - decision\n",
    "- check patterns between number of rounds played and result\n",
    "   - to get an idea of average no. of rounds when knockouts happen\n",
    "   - is there a correlation between planned no. of rounds and knockout round\n",
    "   - to get an idea of how results look if the bout went the distance\n",
    " - is a knockout good or bad? - does it mean it was more likely to have been a mismatch\n",
    " - check patterns between KOs and player skills\n",
    " - check patterns between KOs and different weight categories\n",
    " - how does historically winning a large % of knockouts correlate with probability of:\n",
    "   - winning - are knockouts just gimmicks or indicate a higher chance of winning\n",
    "   - winning by knockout in a new match\n",
    " - how do judges score tally up in completed bouts\n",
    "<br><br>"
   ]
  }
 ],
 "metadata": {
  "kernelspec": {
   "display_name": "Python 3",
   "language": "python",
   "name": "python3"
  },
  "language_info": {
   "codemirror_mode": {
    "name": "ipython",
    "version": 3
   },
   "file_extension": ".py",
   "mimetype": "text/x-python",
   "name": "python",
   "nbconvert_exporter": "python",
   "pygments_lexer": "ipython3",
   "version": "3.6.5"
  }
 },
 "nbformat": 4,
 "nbformat_minor": 2
}
